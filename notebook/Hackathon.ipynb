{
 "cells": [
  {
   "cell_type": "markdown",
   "metadata": {
    "slideshow": {
     "slide_type": "slide"
    }
   },
   "source": [
    "# Hackathon"
   ]
  },
  {
   "cell_type": "markdown",
   "metadata": {
    "slideshow": {
     "slide_type": "slide"
    }
   },
   "source": [
    "## Arboles de comportamiento\n",
    "\n",
    ">> Arboles que representan una descomposición de tareas. El resultado de recorrer el árbol retorna un estado de verdad."
   ]
  },
  {
   "cell_type": "markdown",
   "metadata": {
    "slideshow": {
     "slide_type": "fragment"
    }
   },
   "source": [
    "### Introducción \"recontra\" informal y con ademanes\n",
    "\n",
    "* Programación\n",
    "* Abstracción\n",
    "* Encapsulamiento\n",
    "* Estructuras de datos\n",
    "* Arboles\n",
    "* Objetos"
   ]
  },
  {
   "cell_type": "markdown",
   "metadata": {
    "slideshow": {
     "slide_type": "slide"
    }
   },
   "source": [
    "## Tipos de tareas\n",
    "\n",
    "### Hojas\n",
    "    * Acciones\n",
    "    * Condiciones\n",
    "    * ...\n",
    "### Compuestos\n",
    "    * Secuencia\n",
    "    * Selector\n",
    "    * ...\n",
    "### Decoradores\n",
    "    * Invertir\n",
    "    * Repetir\n",
    "    * Esperar\n",
    "    * ..."
   ]
  },
  {
   "cell_type": "markdown",
   "metadata": {
    "slideshow": {
     "slide_type": "slide"
    }
   },
   "source": [
    "## Estados de las tareas\n",
    "    * Exito\n",
    "    * Fallo\n",
    "    * Corriendo"
   ]
  },
  {
   "cell_type": "markdown",
   "metadata": {
    "slideshow": {
     "slide_type": "slide"
    }
   },
   "source": [
    "![árbol](arbol.jpg)"
   ]
  },
  {
   "cell_type": "markdown",
   "metadata": {
    "slideshow": {
     "slide_type": "slide"
    }
   },
   "source": [
    "## Tutorial en Guinea Shots:\n",
    "\n",
    "* Introduccion \n",
    "    * [Parte 1](http://guineashots.com/2014/07/25/an-introduction-to-behavior-trees-part-1/)\n",
    "    * [Parte 2](http://guineashots.com/2014/08/10/an-introduction-to-behavior-trees-part-2/)\n",
    "    * [Parte 3](http://guineashots.com/2014/08/15/an-introduction-to-behavior-trees-part-3/)\n",
    "* Implementacion \n",
    "    * [Parte 1](http://guineashots.com/2014/09/24/implementing-a-behavior-tree-part-1/)\n",
    "    * [Parte 2](http://guineashots.com/2014/10/25/implementing-a-behavior-tree-part-2/)\n",
    "* Herramienta\n",
    "    * [Behavior3JS](http://behavior3js.guineashots.com)\n",
    "\n",
    "## Otros enlaces\n",
    "* [Wikipedia en](https://en.wikipedia.org/wiki/Behavior_tree_%28artificial_intelligence,_robotics_and_control%29)\n",
    "* [Ai](https://github.com/libgdx/gdx-ai/wiki/Behavior-Trees)\n",
    "* [Behavior Tree Starter Kit](https://github.com/aigamedev/btsk)\n",
    "* [Hackathon](https://github.com/UNPSJB/hackathon)"
   ]
  }
 ],
 "metadata": {
  "celltoolbar": "Slideshow",
  "kernelspec": {
   "display_name": "Python 3",
   "language": "python",
   "name": "python3"
  },
  "language_info": {
   "codemirror_mode": {
    "name": "ipython",
    "version": 3
   },
   "file_extension": ".py",
   "mimetype": "text/x-python",
   "name": "python",
   "nbconvert_exporter": "python",
   "pygments_lexer": "ipython3",
   "version": "3.5.1+"
  }
 },
 "nbformat": 4,
 "nbformat_minor": 0
}
